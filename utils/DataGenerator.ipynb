{
 "cells": [
  {
   "cell_type": "code",
   "execution_count": 12,
   "metadata": {
    "collapsed": true
   },
   "outputs": [
    {
     "name": "stdout",
     "output_type": "stream",
     "text": [
      "Python Platform: Windows-10-10.0.22621-SP0\n",
      "Tensor Flow Version: 2.10.0\n",
      "Keras Version: 2.10.0\n",
      "\n",
      "Python 3.10.0 (tags/v3.10.0:b494f59, Oct  4 2021, 19:00:18) [MSC v.1929 64 bit (AMD64)]\n",
      "Pandas 1.5.1\n",
      "Scikit-Learn 1.1.3\n",
      "SciPy 1.9.3\n",
      "GPU is available\n"
     ]
    }
   ],
   "source": [
    "import os\n",
    "import sys\n",
    "import pandas as pd\n",
    "import sklearn as sk\n",
    "import scipy as sp\n",
    "import tensorflow as tf\n",
    "import platform\n",
    "import pathlib\n",
    "import numpy as np\n",
    "import random\n",
    "from tensorflow import keras\n",
    "from numpy import expand_dims\n",
    "from keras_preprocessing.image import ImageDataGenerator\n",
    "import matplotlib.pyplot as plt\n",
    "from PIL import Image\n",
    "\n",
    "print(f\"Python Platform: {platform.platform()}\")\n",
    "print(f\"Tensor Flow Version: {tf.__version__}\")\n",
    "print(f\"Keras Version: {tf.keras.__version__}\")\n",
    "print()\n",
    "print(f\"Python {sys.version}\")\n",
    "print(f\"Pandas {pd.__version__}\")\n",
    "print(f\"Scikit-Learn {sk.__version__}\")\n",
    "print(f\"SciPy {sp.__version__}\")\n",
    "gpu = len(tf.config.list_physical_devices('GPU'))>0\n",
    "print(\"GPU is\", \"available\" if gpu else \"NOT AVAILABLE\")"
   ]
  },
  {
   "cell_type": "code",
   "execution_count": 13,
   "outputs": [],
   "source": [
    "img_height = 100\n",
    "img_width = 100\n",
    "\n",
    "train_root = pathlib.Path('../../FruitScale/data/Training')\n",
    "train_root = train_root.resolve()\n",
    "\n",
    "test_root = pathlib.Path('../../FruitScale/data/Test')\n",
    "test_root = test_root.resolve()\n",
    "\n",
    "image_count = len(list(train_root.glob('*/*.jpg')))\n",
    "\n",
    "random.seed(42)"
   ],
   "metadata": {
    "collapsed": false
   }
  },
  {
   "cell_type": "code",
   "execution_count": 14,
   "outputs": [],
   "source": [
    "# Creating the data generator\n",
    "datagen = ImageDataGenerator(\n",
    "    rotation_range=180,\n",
    "    width_shift_range=0.2,\n",
    "    height_shift_range=0.2,\n",
    "    brightness_range=[0.5,1.5],\n",
    "    zoom_range=[0.8, 1.1],\n",
    "    horizontal_flip=True,\n",
    "    vertical_flip=True,\n",
    "    fill_mode=\"constant\",\n",
    "    cval=255\n",
    ")"
   ],
   "metadata": {
    "collapsed": false
   }
  },
  {
   "cell_type": "code",
   "execution_count": 15,
   "outputs": [
    {
     "name": "stdout",
     "output_type": "stream",
     "text": [
      "{'Pear Williams', 'Peach', 'Plum', 'Cucumber Ripe', 'Pomegranate', 'Raspberry', 'Orange', 'Physalis', 'Pepino', 'Onion White', 'Tomato 4', 'Pear Abate', 'Kumquats', 'Cherry Rainier', 'Mango', 'Rambutan', 'Tamarillo', 'Tomato Heart', 'Potato Red Washed', 'Pepper Yellow', 'Pineapple Mini', 'Pear Kaiser', 'Pitahaya Red', 'Grapefruit Pink', 'Apple Golden 2', 'Pear Monster', 'Apricot', 'Kohlrabi', 'Strawberry', 'Apple Granny Smith', 'Huckleberry', 'Peach Flat', 'Walnut', 'Apple Golden 3', 'Papaya', 'Strawberry Wedge', 'Cantaloupe 2', 'Pear', 'Tomato not Ripened', 'Mandarine', 'Mangostan', 'Nectarine Flat', 'Kaki', 'Lemon Meyer', 'Pear Red', 'Tomato 2', 'Grape Pink', 'Beetroot', 'Grapefruit White', 'Cherry Wax Red', 'Pepper Orange', 'Apple Braeburn', 'Pear Stone', 'Peach 2', 'Potato Red', 'Tomato Yellow', 'Eggplant', 'Melon Piel de Sapo', 'Pear Forelle', 'Apple Red 3', 'Potato White', 'Banana', 'Redcurrant', 'Dates', 'Physalis with Husk', 'Watermelon', 'Cherry Wax Black', 'Grape White 3', 'Apple Golden 1', 'Cherry 1', 'Onion Red Peeled', 'Pomelo Sweetie', 'Salak', 'Kiwi', 'Apple Pink Lady', 'Cherry 2', 'Apple Red 2', 'Plum 3', 'Avocado', 'Carambula', 'Potato Sweet', 'Banana Red', 'Quince', 'Avocado ripe', 'Granadilla', 'Ginger Root', 'Apple Red Delicious', 'Lychee', 'Apple Red Yellow 1', 'Tomato 1', 'Cherry Wax Yellow', 'Grape Blue', 'Cactus fruit', 'Apple Crimson Snow', 'Cauliflower', 'Blueberry', 'Onion Red', 'Clementine', 'Lemon', 'Apple Red 1', 'Hazelnut', 'Tomato Maroon', 'Nut Forest', 'Apple Red Yellow 2', 'Chestnut', 'Passion Fruit', 'Maracuja', 'Grape White', 'Limes', 'Cantaloupe 1', 'Nectarine', 'Fig', 'Pear 2', 'Tomato 3', 'Pineapple', 'Mango Red', 'Tangelo', 'Guava', 'Plum 2', 'Pepper Green', 'Banana Lady Finger', 'Mulberry', 'Nut Pecan', 'Tomato Cherry Red', 'Cocos', 'Corn', 'Cucumber Ripe 2', 'Grape White 2', 'Grape White 4', 'Pepper Red', 'Corn Husk'}\n"
     ]
    }
   ],
   "source": [
    "# Getting all the labels (folders)\n",
    "all_image_paths = list(train_root.glob('*/*'))\n",
    "\n",
    "train_labels = [str(path.parent.name) for path in all_image_paths]\n",
    "\n",
    "all_image_paths = [str(path) for path in all_image_paths]\n",
    "\n",
    "image_count = len(all_image_paths)\n",
    "#print(image_count)\n",
    "\n",
    "all_labels = set(train_labels)\n",
    "print(all_labels)"
   ],
   "metadata": {
    "collapsed": false
   }
  },
  {
   "cell_type": "code",
   "execution_count": 16,
   "outputs": [
    {
     "data": {
      "text/plain": "<Figure size 1500x600 with 1 Axes>",
      "image/png": "[encoded data removed]"
     },
     "metadata": {},
     "output_type": "display_data"
    }
   ],
   "source": [
    "plt.figure(figsize=(15, 6))\n",
    "x = []\n",
    "y= []\n",
    "i = 1\n",
    "for label in all_labels:\n",
    "    y.append(len( list(train_root.glob(label + \"/*\"))))\n",
    "    x.append(i)\n",
    "    i = i + 1\n",
    "#plt.hist(number)\n",
    "plt.bar(x, y)\n",
    "plt.show()"
   ],
   "metadata": {
    "collapsed": false
   }
  },
  {
   "cell_type": "code",
   "execution_count": 17,
   "outputs": [],
   "source": [
    "# preparing the folders\n",
    "os.mkdir(\"../dataextended\")\n",
    "os.mkdir(\"../dataextended/Training\")\n",
    "for folder in all_labels:\n",
    "    os.mkdir(\"../dataextended/Training/\" + folder)\n",
    "\n"
   ],
   "metadata": {
    "collapsed": false
   }
  },
  {
   "cell_type": "code",
   "execution_count": 18,
   "outputs": [
    {
     "name": "stdout",
     "output_type": "stream",
     "text": [
      "297\n",
      "2970\n"
     ]
    }
   ],
   "source": [
    "# Counting the images to equilibrate the classes\n",
    "minNum = 50000\n",
    "for folder in all_labels:\n",
    "    num = len(list(train_root.glob(folder + '/*')))\n",
    "    if num < minNum:\n",
    "        minNum = num\n",
    "targetNum = minNum * 10\n",
    "print(minNum)\n",
    "print(targetNum)"
   ],
   "metadata": {
    "collapsed": false
   }
  },
  {
   "cell_type": "code",
   "execution_count": 19,
   "outputs": [],
   "source": [
    "# Creating the Training images\n",
    "for folder in all_labels:\n",
    "    imagesDirInFolder = list(train_root.glob(folder + '/*'))\n",
    "    num = len(imagesDirInFolder)\n",
    "    numImagesToCreate = int(targetNum / num)\n",
    "\n",
    "    j = 0\n",
    "    for imageDir in imagesDirInFolder:\n",
    "        img=plt.imread(imageDir)\n",
    "        original = plt.imread(imageDir)\n",
    "\n",
    "        #size = (img_width, img_height)\n",
    "        #img = keras.preprocessing.image.smart_resize(img, size=size)\n",
    "        #original = keras.preprocessing.image.smart_resize(original, size=size)\n",
    "\n",
    "        #saving the original image on the extended dataset\n",
    "        original = Image.fromarray(original.astype('uint8'))\n",
    "        original.save(\"../dataextended/Training/\" + folder + \"/\"+str(j)+'.jpg')\n",
    "        j = j + 1\n",
    "\n",
    "        # For processing, we are converting the image(s) to an array\n",
    "        data = keras.preprocessing.image.img_to_array(img)\n",
    "\n",
    "        # Expanding dimension to one sample\n",
    "        samples = expand_dims(data, 0)\n",
    "\n",
    "        it = datagen.flow(samples, batch_size=1)#, seed=j)\n",
    "\n",
    "        for i in range(0, numImagesToCreate):\n",
    "            batch = it.next()\n",
    "\n",
    "            # Remember to convert these images to unsigned integers for viewing\n",
    "            resultingImage = batch[0].astype('uint8')\n",
    "            resultingImage = Image.fromarray(resultingImage)\n",
    "            resultingImage.save(\"../dataextended/Training/\" + folder + \"/\"+str(j)+'_' + str(i) + '.jpg')\n",
    "\n"
   ],
   "metadata": {
    "collapsed": false
   }
  },
  {
   "cell_type": "code",
   "execution_count": 23,
   "outputs": [
    {
     "data": {
      "text/plain": "<Figure size 1500x600 with 1 Axes>",
      "image/png": "[encoded data removed]"
     },
     "metadata": {},
     "output_type": "display_data"
    }
   ],
   "source": [
    "extended_train_root = pathlib.Path('../../FruitScale/dataextended/Training')\n",
    "extended_train_root = extended_train_root.resolve()\n",
    "plt.figure(figsize=(15, 6))\n",
    "xx = []\n",
    "yy= []\n",
    "i = 1\n",
    "for label in all_labels:\n",
    "    yy.append(len( list(extended_train_root.glob(label + \"/*\"))))\n",
    "    xx.append(i)\n",
    "    i = i + 1\n",
    "\n",
    "#plt.hist(number)\n",
    "plt.bar(xx, yy)\n",
    "plt.show()"
   ],
   "metadata": {
    "collapsed": false
   }
  },
  {
   "cell_type": "code",
   "execution_count": 21,
   "outputs": [],
   "source": [
    "os.mkdir(\"../dataextended/Test\")\n",
    "for folder in all_labels:\n",
    "    os.mkdir(\"../dataextended/Test/\" + folder)"
   ],
   "metadata": {
    "collapsed": false
   }
  },
  {
   "cell_type": "code",
   "execution_count": 22,
   "outputs": [],
   "source": [
    "# Creating the Test images (simply resizing them)\n",
    "for folder in all_labels:\n",
    "    imagesDirInFolder = list(test_root.glob(folder + '/*'))\n",
    "\n",
    "    j = 0\n",
    "    for imageDir in imagesDirInFolder:\n",
    "        #img=plt.imread(imageDir)\n",
    "        original = plt.imread(imageDir)\n",
    "\n",
    "        #size = (img_width, img_height)\n",
    "        #img = keras.preprocessing.image.smart_resize(img, size=size)\n",
    "        #original = keras.preprocessing.image.smart_resize(original, size=size)\n",
    "\n",
    "        #saving the original image on the extended dataset\n",
    "        original = Image.fromarray(original.astype('uint8'))\n",
    "        original.save(\"../dataextended/Test/\" + folder + \"/\"+str(j)+'.jpg')\n",
    "        j = j + 1"
   ],
   "metadata": {
    "collapsed": false
   }
  },
  {
   "cell_type": "code",
   "execution_count": 22,
   "outputs": [],
   "source": [],
   "metadata": {
    "collapsed": false
   }
  }
 ],
 "metadata": {
  "kernelspec": {
   "display_name": "Python 3",
   "language": "python",
   "name": "python3"
  },
  "language_info": {
   "codemirror_mode": {
    "name": "ipython",
    "version": 2
   },
   "file_extension": ".py",
   "mimetype": "text/x-python",
   "name": "python",
   "nbconvert_exporter": "python",
   "pygments_lexer": "ipython2",
   "version": "2.7.6"
  }
 },
 "nbformat": 4,
 "nbformat_minor": 0
}
